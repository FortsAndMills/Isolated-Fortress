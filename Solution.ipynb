{
 "cells": [
  {
   "cell_type": "code",
   "execution_count": null,
   "metadata": {
    "collapsed": false
   },
   "outputs": [],
   "source": [
    "import xgboost as xgb\n",
    "import pandas as pd\n",
    "import numpy as np\n",
    "import math\n",
    "from matplotlib import pyplot as plt\n",
    "%matplotlib inline\n",
    "from pylab import rcParams\n",
    "\n",
    "import pandas as pd\n",
    "from sklearn.linear_model import LogisticRegression\n",
    "from sklearn.ensemble import RandomForestClassifier, GradientBoostingClassifier, AdaBoostClassifier, BaggingClassifier, VotingClassifier\n",
    "from sklearn.cross_validation import cross_val_score as cvs\n",
    "from sklearn.model_selection import cross_val_predict as cross_val_predict\n",
    "from sklearn.tree import DecisionTreeClassifier\n",
    "import sklearn.metrics as metrics\n",
    "from sklearn.metrics import log_loss\n",
    "from sklearn.utils import shuffle\n",
    "from sklearn.preprocessing import StandardScaler\n",
    "from sklearn.neighbors import KNeighborsClassifier\n",
    "from sklearn.cluster import KMeans\n",
    "from sklearn.neighbors import KNeighborsClassifier as kNN\n",
    "from sklearn.ensemble import IsolationForest\n",
    "\n",
    "rcParams['figure.figsize'] = 15, 10\n",
    "%config InlineBackend.figure_format = 'retina'  # более качественное отображение графиков\n",
    "\n",
    "from IPython.core.interactiveshell import InteractiveShell\n",
    "InteractiveShell.ast_node_interactivity = \"all\"  # вывод всех запрошенных переменных ячейки"
   ]
  },
  {
   "cell_type": "markdown",
   "metadata": {},
   "source": [
    "Загрузка данных"
   ]
  },
  {
   "cell_type": "code",
   "execution_count": null,
   "metadata": {
    "collapsed": false
   },
   "outputs": [],
   "source": [
    "DF = pd.read_csv(\"train.csv\", index_col=\"Time\")\n",
    "DF.head()"
   ]
  },
  {
   "cell_type": "code",
   "execution_count": null,
   "metadata": {
    "collapsed": true
   },
   "outputs": [],
   "source": [
    "list_of_test = []\n",
    "for i in range(0, 10):\n",
    "    test = pd.read_csv('./test/0%d_test.csv'%i, index_col=\"Time\")\n",
    "    #print(len(test), end=';  ')\n",
    "    test.dropna(inplace=True)\n",
    "    #print(len(test))\n",
    "    list_of_test.append(test)\n",
    "for i in range(10, 48):\n",
    "    test = pd.read_csv('./test/%d_test.csv'%i, index_col=\"Time\")\n",
    "    #print(len(test), end=';  ')\n",
    "    test.dropna(inplace=True)\n",
    "    #print(len(test))\n",
    "    list_of_test.append(test)\n",
    "    \n",
    "test_all = list_of_test[0]\n",
    "for i in range(1, len(list_of_test)):\n",
    "    test_all = test_all.append(list_of_test[i])"
   ]
  },
  {
   "cell_type": "markdown",
   "metadata": {},
   "source": [
    "Объединяем всё и масштабируем"
   ]
  },
  {
   "cell_type": "code",
   "execution_count": null,
   "metadata": {
    "collapsed": true
   },
   "outputs": [],
   "source": [
    "scaler = StandardScaler()\n",
    "table = DF.append(test_all)\n",
    "scaler.fit(table)\n",
    "\n",
    "table = scaler.transform(table)\n",
    "DF = scaler.transform(DF)\n",
    "test_all = scaler.transform(test_all)"
   ]
  },
  {
   "cell_type": "markdown",
   "metadata": {},
   "source": [
    "Пихаем в kmeans"
   ]
  },
  {
   "cell_type": "code",
   "execution_count": null,
   "metadata": {
    "collapsed": true
   },
   "outputs": [],
   "source": [
    "kmeans = KMeans(n_clusters=10, random_state=141).fit(table)\n",
    "predict = kmeans.predict(table)"
   ]
  },
  {
   "cell_type": "markdown",
   "metadata": {},
   "source": [
    "Сохраняем ответ в файлах"
   ]
  },
  {
   "cell_type": "code",
   "execution_count": null,
   "metadata": {
    "collapsed": true
   },
   "outputs": [],
   "source": [
    "np.save(\"train_clusters\", predict[:len(DF)])\n",
    "limit = len(DF)\n",
    "for i in range(len(list_of_test)):\n",
    "    np.save(\"test\" + str(i) + \"_clusters\", predict[limit:limit+len(list_of_test[i])])\n",
    "    limit += len(list_of_test[i])"
   ]
  },
  {
   "cell_type": "markdown",
   "metadata": {},
   "source": [
    "На этом решение почти окончено. Грузим ответы из файла и ищем промежутки из 100 ответов kmeans, которые не встречаются на трейне. Если такое встретилось 100 раз за 10000 единиц времени - бьём в колокола."
   ]
  },
  {
   "cell_type": "code",
   "execution_count": null,
   "metadata": {
    "collapsed": false
   },
   "outputs": [],
   "source": [
    "W = 100\n",
    "train = np.load(\"clusters//train_clusters.npy\")\n",
    "p = np.chararray.tostring(train)"
   ]
  },
  {
   "cell_type": "code",
   "execution_count": null,
   "metadata": {
    "collapsed": true
   },
   "outputs": [],
   "source": [
    "ans = pd.DataFrame(index=range(48))\n",
    "ans[0] = 0\n",
    "\n",
    "for test_i in range(48):\n",
    "    original_test = pd.read_csv('./test/' + str(test_i // 10) + str(test_i % 10) + '_test.csv', index_col=\"Time\").dropna()\n",
    "    \n",
    "    test = np.load(\"clusters//test\" + str(test_i) + \"_clusters.npy\")\n",
    "    t = np.chararray.tostring(test)\n",
    "    \n",
    "    candidates = []\n",
    "    for i in range(W, len(test)):\n",
    "        j = p.find(t[(i - W) * 4:i * 4])\n",
    "        if j == -1:\n",
    "            candidates.append(original_test.index[i])\n",
    "            \n",
    "            if len(candidates) >= W and candidates[-1] - candidates[-W] < 10000:\n",
    "                ans[0][test_i] = original_test.index[i]\n",
    "                print(test_i, \") \", i, ans[0][test_i])\n",
    "                break\n",
    "                \n",
    "    if ans[0][test_i] == 0:\n",
    "        print(\"anomal!\")\n",
    "        ans[0][test_i] = candidates[0]"
   ]
  },
  {
   "cell_type": "code",
   "execution_count": null,
   "metadata": {
    "collapsed": true
   },
   "outputs": [],
   "source": [
    "ans.to_csv(\"answer.csv\", header=None)"
   ]
  }
 ],
 "metadata": {
  "anaconda-cloud": {},
  "kernelspec": {
   "display_name": "Python [Root]",
   "language": "python",
   "name": "Python [Root]"
  },
  "language_info": {
   "codemirror_mode": {
    "name": "ipython",
    "version": 3
   },
   "file_extension": ".py",
   "mimetype": "text/x-python",
   "name": "python",
   "nbconvert_exporter": "python",
   "pygments_lexer": "ipython3",
   "version": "3.5.2"
  }
 },
 "nbformat": 4,
 "nbformat_minor": 0
}
